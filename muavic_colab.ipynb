{
  "cells": [
    {
      "cell_type": "markdown",
      "metadata": {
        "id": "view-in-github"
      },
      "source": [
        "[![Open In Colab](https://colab.research.google.com/assets/colab-badge.svg)](https://colab.research.google.com/github/camenduru/muavic-colab/blob/main/muavic_colab.ipynb)"
      ]
    },
    {
      "cell_type": "code",
      "execution_count": null,
      "metadata": {
        "id": "VjYy0F2gZIPR"
      },
      "outputs": [],
      "source": [
        "%cd /content\n",
        "%env TF_CPP_MIN_LOG_LEVEL=1\n",
        "\n",
        "!git clone --recursive -b muavic https://github.com/camenduru/av_hubert\n",
        "!git clone --recursive -b dev https://github.com/camenduru/muavic\n",
        "%cd /content/av_hubert\n",
        "\n",
        "!pip install -q python-speech-features sentencepiece\n",
        "!pip install -q sox wget yt_dlp xmltodict ffmpeg-python gradio\n",
        "!pip install -q /content/av_hubert/fairseq\n",
        "\n",
        "!apt -y install -qq aria2 sox\n",
        "!aria2c --console-log-level=error -c -x 16 -s 16 -k 1M https://huggingface.co/camenduru/muavic/resolve/main/en_avsr_checkpoint_best.pt -d /content/models/en_avsr -o checkpoint_best.pt\n",
        "!aria2c --console-log-level=error -c -x 16 -s 16 -k 1M https://huggingface.co/camenduru/muavic/raw/main/en_avsr_dict.en.txt -d /content/models/en_avsr -o dict.en.txt\n",
        "!aria2c --console-log-level=error -c -x 16 -s 16 -k 1M https://huggingface.co/camenduru/muavic/resolve/main/en_avsr_tokenizer.model -d /content/models/en_avsr -o tokenizer.model\n",
        "!aria2c --console-log-level=error -c -x 16 -s 16 -k 1M https://huggingface.co/camenduru/shape_predictor_68_face_landmarks/resolve/main/shape_predictor_68_face_landmarks.dat -d /content/output/metadata -o shape_predictor_68_face_landmarks.dat\n",
        "!mkdir /content/output\n",
        "\n",
        "%cd /content/muavic/demo\n",
        "!python run_demo.py --avhubert-path /content/av_hubert/avhubert --av-models-path /content/models --output-path /content/output"
      ]
    }
  ],
  "metadata": {
    "accelerator": "GPU",
    "colab": {
      "gpuType": "T4",
      "provenance": []
    },
    "kernelspec": {
      "display_name": "Python 3",
      "name": "python3"
    },
    "language_info": {
      "name": "python"
    }
  },
  "nbformat": 4,
  "nbformat_minor": 0
}
